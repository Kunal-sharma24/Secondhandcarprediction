{
  "nbformat": 4,
  "nbformat_minor": 0,
  "metadata": {
    "colab": {
      "provenance": [],
      "gpuType": "V28"
    },
    "kernelspec": {
      "name": "python3",
      "display_name": "Python 3"
    },
    "language_info": {
      "name": "python"
    },
    "accelerator": "TPU"
  },
  "cells": [
    {
      "cell_type": "code",
      "execution_count": 110,
      "metadata": {
        "id": "dRPPwhNwHZAP"
      },
      "outputs": [],
      "source": [
        "import tensorflow as tf\n",
        "import pandas as pd #reading and processing datas\n",
        "import seaborn as sns #for charts\n",
        "from tensorflow.keras.losses import MeanSquaredError,MeanAbsoluteError,Huber\n",
        "from tensorflow.keras.optimizers import Adam\n",
        "import matplotlib.pyplot as plt\n",
        "from tensorflow.keras.layers import Dense,InputLayer,Normalization\n",
        "from tensorflow.keras.models import Sequential\n",
        "from tensorflow.keras.metrics import RootMeanSquaredError\n",
        "import numpy as np\n",
        "from sklearn.metrics import confusion_matrix"
      ]
    },
    {
      "cell_type": "code",
      "source": [
        "data=pd.read_csv(\"train.csv\")"
      ],
      "metadata": {
        "id": "fTCPcraY7uB4"
      },
      "execution_count": 111,
      "outputs": []
    },
    {
      "cell_type": "markdown",
      "source": [
        "# New Section"
      ],
      "metadata": {
        "id": "hzBEajSuBFmP"
      }
    },
    {
      "cell_type": "code",
      "source": [
        "print(data.head())\n",
        "data.shape"
      ],
      "metadata": {
        "colab": {
          "base_uri": "https://localhost:8080/"
        },
        "id": "-ARQRKje8rAZ",
        "outputId": "b39ad437-55da-4382-812c-483939296e59"
      },
      "execution_count": 112,
      "outputs": [
        {
          "output_type": "stream",
          "name": "stdout",
          "text": [
            "   v.id  on road old  on road now  years      km  rating  condition  economy  \\\n",
            "0     1       535651       798186      3   78945       1          2       14   \n",
            "1     2       591911       861056      6  117220       5          9        9   \n",
            "2     3       686990       770762      2  132538       2          8       15   \n",
            "3     4       573999       722381      4  101065       4          3       11   \n",
            "4     5       691388       811335      6   61559       3          9       12   \n",
            "\n",
            "   top speed  hp  torque  current price  \n",
            "0        177  73     123       351318.0  \n",
            "1        148  74      95       285001.5  \n",
            "2        181  53      97       215386.0  \n",
            "3        197  54     116       244295.5  \n",
            "4        160  53     105       531114.5  \n"
          ]
        },
        {
          "output_type": "execute_result",
          "data": {
            "text/plain": [
              "(1000, 12)"
            ]
          },
          "metadata": {},
          "execution_count": 112
        }
      ]
    },
    {
      "cell_type": "code",
      "source": [
        "# for col in ['condition','v.id','on road old','on road now','years','km','rating','condition','economy','top speed','hp','torque','current price']:\n",
        "#   print(f\"{col}: {data[col].dtype}, Shape: {data[col].shape}\")"
      ],
      "metadata": {
        "id": "eyeVWnO58sS2"
      },
      "execution_count": 113,
      "outputs": []
    },
    {
      "cell_type": "code",
      "source": [
        "# sns.pairplot(data[['condition','v.id','on road old','on road now','years','km','rating','economy','top speed','hp','torque','current price']],diag_kind='kde')"
      ],
      "metadata": {
        "id": "ITgo8U5o9ekB"
      },
      "execution_count": 114,
      "outputs": []
    },
    {
      "cell_type": "code",
      "source": [
        "data_tensor=tf.convert_to_tensor(data)\n",
        "data_tensor=tf.cast(data_tensor,tf.float32)\n",
        "data_tensor"
      ],
      "metadata": {
        "colab": {
          "base_uri": "https://localhost:8080/"
        },
        "id": "zqxgQdUQByKv",
        "outputId": "74a808bc-22f6-4923-abab-611975e62892"
      },
      "execution_count": 115,
      "outputs": [
        {
          "output_type": "execute_result",
          "data": {
            "text/plain": [
              "<tf.Tensor: shape=(1000, 12), dtype=float32, numpy=\n",
              "array([[1.000000e+00, 5.356510e+05, 7.981860e+05, ..., 7.300000e+01,\n",
              "        1.230000e+02, 3.513180e+05],\n",
              "       [2.000000e+00, 5.919110e+05, 8.610560e+05, ..., 7.400000e+01,\n",
              "        9.500000e+01, 2.850015e+05],\n",
              "       [3.000000e+00, 6.869900e+05, 7.707620e+05, ..., 5.300000e+01,\n",
              "        9.700000e+01, 2.153860e+05],\n",
              "       ...,\n",
              "       [9.980000e+02, 6.463440e+05, 8.427330e+05, ..., 1.130000e+02,\n",
              "        8.900000e+01, 4.058710e+05],\n",
              "       [9.990000e+02, 5.355590e+05, 7.324390e+05, ..., 1.120000e+02,\n",
              "        1.280000e+02, 7.439800e+04],\n",
              "       [1.000000e+03, 5.901050e+05, 7.797430e+05, ..., 9.900000e+01,\n",
              "        9.600000e+01, 4.149385e+05]], dtype=float32)>"
            ]
          },
          "metadata": {},
          "execution_count": 115
        }
      ]
    },
    {
      "cell_type": "code",
      "source": [
        "x=data_tensor[:,3:-1]\n",
        "print(x.shape)\n",
        "y=data_tensor[:,-1]\n",
        "y=tf.expand_dims(y,axis=1)\n",
        "print(y.shape)"
      ],
      "metadata": {
        "colab": {
          "base_uri": "https://localhost:8080/"
        },
        "id": "Vcsbqtv4D_sJ",
        "outputId": "123b5c94-3afb-4e30-8f5e-168bc64e0ace"
      },
      "execution_count": 116,
      "outputs": [
        {
          "output_type": "stream",
          "name": "stdout",
          "text": [
            "(1000, 8)\n",
            "(1000, 1)\n"
          ]
        }
      ]
    },
    {
      "cell_type": "code",
      "source": [
        "Train_ratio=0.8\n",
        "Val_ratio=0.1\n",
        "Test_ratio=0.1\n",
        "data_size=len(x)"
      ],
      "metadata": {
        "id": "1m_OS_bVFLhK"
      },
      "execution_count": 117,
      "outputs": []
    },
    {
      "cell_type": "code",
      "source": [
        "norm=Normalization()\n",
        "norm.adapt(x)\n",
        "print(norm(x))"
      ],
      "metadata": {
        "id": "n50kaMRFL_U4",
        "colab": {
          "base_uri": "https://localhost:8080/"
        },
        "outputId": "ad713a52-797f-4a7a-b83d-d039c7f83b83"
      },
      "execution_count": 118,
      "outputs": [
        {
          "output_type": "stream",
          "name": "stdout",
          "text": [
            "tf.Tensor(\n",
            "[[-0.90849847 -0.7320676  -1.417883   ...  0.52425617 -0.56303596\n",
            "   0.9301041 ]\n",
            " [ 0.83749485  0.58160454  1.4350004  ... -0.9799921  -0.5142714\n",
            "  -0.40017685]\n",
            " [-1.4904962   1.107348   -0.70466214 ...  0.7317387  -1.538328\n",
            "  -0.3051568 ]\n",
            " ...\n",
            " [ 1.4194926  -0.46514592 -1.417883   ...  1.5097982   1.3875481\n",
            "  -0.68523705]\n",
            " [-1.4904962   1.3798641   0.7217796  ...  0.8873506   1.3387835\n",
            "   1.1676543 ]\n",
            " [ 0.2554971  -1.1319182   0.7217796  ...  1.66541     0.7048437\n",
            "  -0.35266683]], shape=(1000, 8), dtype=float32)\n"
          ]
        }
      ]
    },
    {
      "cell_type": "code",
      "source": [
        "xtrain=x[:int(data_size*Train_ratio)]\n",
        "ytrain=y[:int(data_size*Train_ratio)]\n",
        "valx=x[int(data_size*Train_ratio):int(data_size*(Train_ratio+Val_ratio))]\n",
        "valy=y[int(data_size*Train_ratio):int(data_size*(Train_ratio+Val_ratio))]\n",
        "testx=x[int(data_size*(Train_ratio+Val_ratio)):]\n",
        "testy=y[int(data_size*(Train_ratio+Val_ratio)):]"
      ],
      "metadata": {
        "id": "L5TQGOpn_-f7"
      },
      "execution_count": 119,
      "outputs": []
    },
    {
      "cell_type": "code",
      "source": [
        "model=tf.keras.Sequential([\n",
        "    InputLayer(input_shape=(8,)),\n",
        "    norm,\n",
        "    Dense(32),\n",
        "    Dense(8),\n",
        "    Dense(1),\n",
        "])\n",
        "model.summary()"
      ],
      "metadata": {
        "colab": {
          "base_uri": "https://localhost:8080/",
          "height": 292
        },
        "id": "wBE6xXuhDTPd",
        "outputId": "8e01f655-b25e-4971-da60-481f360ab01e"
      },
      "execution_count": 132,
      "outputs": [
        {
          "output_type": "stream",
          "name": "stderr",
          "text": [
            "/usr/local/lib/python3.10/dist-packages/keras/src/layers/core/input_layer.py:26: UserWarning: Argument `input_shape` is deprecated. Use `shape` instead.\n",
            "  warnings.warn(\n"
          ]
        },
        {
          "output_type": "display_data",
          "data": {
            "text/plain": [
              "\u001b[1mModel: \"sequential_7\"\u001b[0m\n"
            ],
            "text/html": [
              "<pre style=\"white-space:pre;overflow-x:auto;line-height:normal;font-family:Menlo,'DejaVu Sans Mono',consolas,'Courier New',monospace\"><span style=\"font-weight: bold\">Model: \"sequential_7\"</span>\n",
              "</pre>\n"
            ]
          },
          "metadata": {}
        },
        {
          "output_type": "display_data",
          "data": {
            "text/plain": [
              "┏━━━━━━━━━━━━━━━━━━━━━━━━━━━━━━━━━━━━━━┳━━━━━━━━━━━━━━━━━━━━━━━━━━━━━┳━━━━━━━━━━━━━━━━━┓\n",
              "┃\u001b[1m \u001b[0m\u001b[1mLayer (type)                        \u001b[0m\u001b[1m \u001b[0m┃\u001b[1m \u001b[0m\u001b[1mOutput Shape               \u001b[0m\u001b[1m \u001b[0m┃\u001b[1m \u001b[0m\u001b[1m        Param #\u001b[0m\u001b[1m \u001b[0m┃\n",
              "┡━━━━━━━━━━━━━━━━━━━━━━━━━━━━━━━━━━━━━━╇━━━━━━━━━━━━━━━━━━━━━━━━━━━━━╇━━━━━━━━━━━━━━━━━┩\n",
              "│ normalization_3 (\u001b[38;5;33mNormalization\u001b[0m)      │ (\u001b[38;5;45mNone\u001b[0m, \u001b[38;5;34m8\u001b[0m)                   │              \u001b[38;5;34m17\u001b[0m │\n",
              "├──────────────────────────────────────┼─────────────────────────────┼─────────────────┤\n",
              "│ dense_13 (\u001b[38;5;33mDense\u001b[0m)                     │ (\u001b[38;5;45mNone\u001b[0m, \u001b[38;5;34m32\u001b[0m)                  │             \u001b[38;5;34m288\u001b[0m │\n",
              "├──────────────────────────────────────┼─────────────────────────────┼─────────────────┤\n",
              "│ dense_14 (\u001b[38;5;33mDense\u001b[0m)                     │ (\u001b[38;5;45mNone\u001b[0m, \u001b[38;5;34m8\u001b[0m)                   │             \u001b[38;5;34m264\u001b[0m │\n",
              "├──────────────────────────────────────┼─────────────────────────────┼─────────────────┤\n",
              "│ dense_15 (\u001b[38;5;33mDense\u001b[0m)                     │ (\u001b[38;5;45mNone\u001b[0m, \u001b[38;5;34m1\u001b[0m)                   │               \u001b[38;5;34m9\u001b[0m │\n",
              "└──────────────────────────────────────┴─────────────────────────────┴─────────────────┘\n"
            ],
            "text/html": [
              "<pre style=\"white-space:pre;overflow-x:auto;line-height:normal;font-family:Menlo,'DejaVu Sans Mono',consolas,'Courier New',monospace\">┏━━━━━━━━━━━━━━━━━━━━━━━━━━━━━━━━━━━━━━┳━━━━━━━━━━━━━━━━━━━━━━━━━━━━━┳━━━━━━━━━━━━━━━━━┓\n",
              "┃<span style=\"font-weight: bold\"> Layer (type)                         </span>┃<span style=\"font-weight: bold\"> Output Shape                </span>┃<span style=\"font-weight: bold\">         Param # </span>┃\n",
              "┡━━━━━━━━━━━━━━━━━━━━━━━━━━━━━━━━━━━━━━╇━━━━━━━━━━━━━━━━━━━━━━━━━━━━━╇━━━━━━━━━━━━━━━━━┩\n",
              "│ normalization_3 (<span style=\"color: #0087ff; text-decoration-color: #0087ff\">Normalization</span>)      │ (<span style=\"color: #00d7ff; text-decoration-color: #00d7ff\">None</span>, <span style=\"color: #00af00; text-decoration-color: #00af00\">8</span>)                   │              <span style=\"color: #00af00; text-decoration-color: #00af00\">17</span> │\n",
              "├──────────────────────────────────────┼─────────────────────────────┼─────────────────┤\n",
              "│ dense_13 (<span style=\"color: #0087ff; text-decoration-color: #0087ff\">Dense</span>)                     │ (<span style=\"color: #00d7ff; text-decoration-color: #00d7ff\">None</span>, <span style=\"color: #00af00; text-decoration-color: #00af00\">32</span>)                  │             <span style=\"color: #00af00; text-decoration-color: #00af00\">288</span> │\n",
              "├──────────────────────────────────────┼─────────────────────────────┼─────────────────┤\n",
              "│ dense_14 (<span style=\"color: #0087ff; text-decoration-color: #0087ff\">Dense</span>)                     │ (<span style=\"color: #00d7ff; text-decoration-color: #00d7ff\">None</span>, <span style=\"color: #00af00; text-decoration-color: #00af00\">8</span>)                   │             <span style=\"color: #00af00; text-decoration-color: #00af00\">264</span> │\n",
              "├──────────────────────────────────────┼─────────────────────────────┼─────────────────┤\n",
              "│ dense_15 (<span style=\"color: #0087ff; text-decoration-color: #0087ff\">Dense</span>)                     │ (<span style=\"color: #00d7ff; text-decoration-color: #00d7ff\">None</span>, <span style=\"color: #00af00; text-decoration-color: #00af00\">1</span>)                   │               <span style=\"color: #00af00; text-decoration-color: #00af00\">9</span> │\n",
              "└──────────────────────────────────────┴─────────────────────────────┴─────────────────┘\n",
              "</pre>\n"
            ]
          },
          "metadata": {}
        },
        {
          "output_type": "display_data",
          "data": {
            "text/plain": [
              "\u001b[1m Total params: \u001b[0m\u001b[38;5;34m578\u001b[0m (2.26 KB)\n"
            ],
            "text/html": [
              "<pre style=\"white-space:pre;overflow-x:auto;line-height:normal;font-family:Menlo,'DejaVu Sans Mono',consolas,'Courier New',monospace\"><span style=\"font-weight: bold\"> Total params: </span><span style=\"color: #00af00; text-decoration-color: #00af00\">578</span> (2.26 KB)\n",
              "</pre>\n"
            ]
          },
          "metadata": {}
        },
        {
          "output_type": "display_data",
          "data": {
            "text/plain": [
              "\u001b[1m Trainable params: \u001b[0m\u001b[38;5;34m561\u001b[0m (2.19 KB)\n"
            ],
            "text/html": [
              "<pre style=\"white-space:pre;overflow-x:auto;line-height:normal;font-family:Menlo,'DejaVu Sans Mono',consolas,'Courier New',monospace\"><span style=\"font-weight: bold\"> Trainable params: </span><span style=\"color: #00af00; text-decoration-color: #00af00\">561</span> (2.19 KB)\n",
              "</pre>\n"
            ]
          },
          "metadata": {}
        },
        {
          "output_type": "display_data",
          "data": {
            "text/plain": [
              "\u001b[1m Non-trainable params: \u001b[0m\u001b[38;5;34m17\u001b[0m (72.00 B)\n"
            ],
            "text/html": [
              "<pre style=\"white-space:pre;overflow-x:auto;line-height:normal;font-family:Menlo,'DejaVu Sans Mono',consolas,'Courier New',monospace\"><span style=\"font-weight: bold\"> Non-trainable params: </span><span style=\"color: #00af00; text-decoration-color: #00af00\">17</span> (72.00 B)\n",
              "</pre>\n"
            ]
          },
          "metadata": {}
        }
      ]
    },
    {
      "cell_type": "code",
      "source": [
        "model.compile(optimizer=Adam(learning_rate=1.0),loss=Huber(),metrics=[RootMeanSquaredError()])"
      ],
      "metadata": {
        "id": "TKFXHa5EJiGy"
      },
      "execution_count": 133,
      "outputs": []
    },
    {
      "cell_type": "code",
      "source": [
        "history = model.fit(xtrain,ytrain,validation_data=(valx,valy),epochs=100,verbose=0)"
      ],
      "metadata": {
        "id": "kR9Ii5XH0Bfj"
      },
      "execution_count": 134,
      "outputs": []
    },
    {
      "cell_type": "code",
      "source": [
        "history.history"
      ],
      "metadata": {
        "colab": {
          "base_uri": "https://localhost:8080/"
        },
        "id": "YmfKNlRW0MD9",
        "outputId": "75ec55d1-89a3-4164-c69b-a9898cf6db14"
      },
      "execution_count": 135,
      "outputs": [
        {
          "output_type": "execute_result",
          "data": {
            "text/plain": [
              "{'loss': [190772.984375,\n",
              "  51581.94921875,\n",
              "  39881.80078125,\n",
              "  40713.4921875,\n",
              "  43017.8515625,\n",
              "  38549.6640625,\n",
              "  40536.78515625,\n",
              "  39168.73046875,\n",
              "  43386.80859375,\n",
              "  40408.68359375,\n",
              "  38764.4140625,\n",
              "  39918.2890625,\n",
              "  40890.24609375,\n",
              "  42586.2890625,\n",
              "  43117.37109375,\n",
              "  39414.9765625,\n",
              "  39068.03125,\n",
              "  41269.42578125,\n",
              "  42693.765625,\n",
              "  40362.9765625,\n",
              "  42169.43359375,\n",
              "  40998.6328125,\n",
              "  40007.70703125,\n",
              "  39522.546875,\n",
              "  39932.11328125,\n",
              "  39797.79296875,\n",
              "  43644.765625,\n",
              "  38782.921875,\n",
              "  37626.9453125,\n",
              "  39976.16015625,\n",
              "  38396.84765625,\n",
              "  39864.9140625,\n",
              "  38849.7421875,\n",
              "  39169.30859375,\n",
              "  40725.03125,\n",
              "  37681.87109375,\n",
              "  37402.4375,\n",
              "  39143.296875,\n",
              "  36454.484375,\n",
              "  36446.53125,\n",
              "  37412.328125,\n",
              "  38438.515625,\n",
              "  37338.62890625,\n",
              "  39221.09375,\n",
              "  38768.62109375,\n",
              "  40363.4921875,\n",
              "  37710.3984375,\n",
              "  36758.7890625,\n",
              "  39485.96484375,\n",
              "  39664.7890625,\n",
              "  38665.984375,\n",
              "  41402.37890625,\n",
              "  38640.71484375,\n",
              "  37531.80078125,\n",
              "  39791.88671875,\n",
              "  37377.8984375,\n",
              "  39386.76953125,\n",
              "  37663.60546875,\n",
              "  39862.38671875,\n",
              "  37084.23828125,\n",
              "  39288.00390625,\n",
              "  39253.52734375,\n",
              "  36983.42578125,\n",
              "  39298.37109375,\n",
              "  40690.32421875,\n",
              "  37575.5859375,\n",
              "  37435.234375,\n",
              "  39640.4375,\n",
              "  39725.04296875,\n",
              "  37529.046875,\n",
              "  37508.37109375,\n",
              "  38482.640625,\n",
              "  37160.9296875,\n",
              "  37752.48828125,\n",
              "  37763.85546875,\n",
              "  38280.97265625,\n",
              "  37661.8359375,\n",
              "  37614.3515625,\n",
              "  38548.96875,\n",
              "  36496.6484375,\n",
              "  39085.7578125,\n",
              "  42399.59375,\n",
              "  38951.82421875,\n",
              "  40588.6484375,\n",
              "  37467.44140625,\n",
              "  39887.01171875,\n",
              "  36459.2109375,\n",
              "  39149.08203125,\n",
              "  41430.671875,\n",
              "  37993.72265625,\n",
              "  37593.734375,\n",
              "  39994.7734375,\n",
              "  39879.73046875,\n",
              "  37574.81640625,\n",
              "  38113.34375,\n",
              "  37879.125,\n",
              "  37794.21484375,\n",
              "  38366.37890625,\n",
              "  41061.44140625,\n",
              "  39479.1328125],\n",
              " 'root_mean_squared_error': [237753.671875,\n",
              "  63090.03515625,\n",
              "  49197.19921875,\n",
              "  50112.60546875,\n",
              "  53171.59375,\n",
              "  47865.5390625,\n",
              "  49886.6953125,\n",
              "  48639.29296875,\n",
              "  53661.796875,\n",
              "  50261.54296875,\n",
              "  47778.0390625,\n",
              "  49324.046875,\n",
              "  50859.0,\n",
              "  52389.70703125,\n",
              "  52966.3671875,\n",
              "  48348.94140625,\n",
              "  47734.83203125,\n",
              "  51098.296875,\n",
              "  52698.40234375,\n",
              "  49968.1015625,\n",
              "  51673.72265625,\n",
              "  50079.37890625,\n",
              "  48947.61328125,\n",
              "  48614.76953125,\n",
              "  48867.08203125,\n",
              "  48620.6796875,\n",
              "  53712.08203125,\n",
              "  48060.37109375,\n",
              "  46284.83203125,\n",
              "  48789.48046875,\n",
              "  46842.8046875,\n",
              "  48636.1875,\n",
              "  47733.234375,\n",
              "  48471.31640625,\n",
              "  49603.38671875,\n",
              "  46029.875,\n",
              "  45790.99609375,\n",
              "  48528.23828125,\n",
              "  44680.4609375,\n",
              "  44281.9375,\n",
              "  46220.85546875,\n",
              "  47527.7734375,\n",
              "  45207.70703125,\n",
              "  48397.23046875,\n",
              "  47365.00390625,\n",
              "  49923.54296875,\n",
              "  46351.02734375,\n",
              "  45358.82421875,\n",
              "  48405.27734375,\n",
              "  48324.046875,\n",
              "  47670.95703125,\n",
              "  51214.9453125,\n",
              "  47384.703125,\n",
              "  45901.19140625,\n",
              "  48960.65234375,\n",
              "  46507.8125,\n",
              "  48773.953125,\n",
              "  46166.49609375,\n",
              "  49306.08203125,\n",
              "  45809.97265625,\n",
              "  47548.57421875,\n",
              "  48286.99609375,\n",
              "  45315.36328125,\n",
              "  48180.109375,\n",
              "  50698.84765625,\n",
              "  47008.9296875,\n",
              "  46048.765625,\n",
              "  48819.24609375,\n",
              "  49101.71875,\n",
              "  45850.7734375,\n",
              "  46105.359375,\n",
              "  47662.31640625,\n",
              "  45351.625,\n",
              "  46024.7578125,\n",
              "  46151.0859375,\n",
              "  46976.64453125,\n",
              "  46254.578125,\n",
              "  46552.27734375,\n",
              "  47105.55078125,\n",
              "  44953.0546875,\n",
              "  47883.67578125,\n",
              "  51988.55859375,\n",
              "  47742.328125,\n",
              "  49386.66015625,\n",
              "  45635.94921875,\n",
              "  48728.4921875,\n",
              "  44763.59765625,\n",
              "  48385.671875,\n",
              "  51113.78125,\n",
              "  46544.84375,\n",
              "  45996.5859375,\n",
              "  49097.078125,\n",
              "  49352.734375,\n",
              "  45589.8203125,\n",
              "  46546.69140625,\n",
              "  46595.4296875,\n",
              "  46058.4765625,\n",
              "  47020.88671875,\n",
              "  50188.01171875,\n",
              "  47949.9140625],\n",
              " 'val_loss': [69904.578125,\n",
              "  43225.05078125,\n",
              "  41621.796875,\n",
              "  43379.94140625,\n",
              "  41781.87109375,\n",
              "  39461.875,\n",
              "  42915.4453125,\n",
              "  47628.6796875,\n",
              "  43821.17578125,\n",
              "  42248.1484375,\n",
              "  37164.35546875,\n",
              "  35417.72265625,\n",
              "  37547.19140625,\n",
              "  44323.34375,\n",
              "  38148.19140625,\n",
              "  40835.5078125,\n",
              "  39012.69921875,\n",
              "  43444.1953125,\n",
              "  35436.85546875,\n",
              "  40430.43359375,\n",
              "  44024.44140625,\n",
              "  36506.046875,\n",
              "  40578.42578125,\n",
              "  36180.78125,\n",
              "  39098.76171875,\n",
              "  53841.7265625,\n",
              "  35687.21875,\n",
              "  37164.734375,\n",
              "  40991.0859375,\n",
              "  38195.05078125,\n",
              "  40503.328125,\n",
              "  37017.6796875,\n",
              "  36452.5703125,\n",
              "  47744.515625,\n",
              "  38978.42578125,\n",
              "  39608.23046875,\n",
              "  36562.00390625,\n",
              "  39600.2734375,\n",
              "  38620.8046875,\n",
              "  35566.30859375,\n",
              "  37202.25390625,\n",
              "  38273.09375,\n",
              "  38366.0234375,\n",
              "  37309.57421875,\n",
              "  39459.21875,\n",
              "  39773.2109375,\n",
              "  38756.43359375,\n",
              "  42546.76953125,\n",
              "  36872.03125,\n",
              "  39661.6328125,\n",
              "  36894.78125,\n",
              "  35593.4609375,\n",
              "  34802.77734375,\n",
              "  41651.125,\n",
              "  37987.08984375,\n",
              "  41383.80078125,\n",
              "  36273.13671875,\n",
              "  38945.0625,\n",
              "  40115.48046875,\n",
              "  36383.71875,\n",
              "  40470.29296875,\n",
              "  35986.62890625,\n",
              "  37150.23828125,\n",
              "  38822.6484375,\n",
              "  43102.73046875,\n",
              "  40772.5390625,\n",
              "  36406.734375,\n",
              "  44436.296875,\n",
              "  36172.7578125,\n",
              "  38079.00390625,\n",
              "  38013.07421875,\n",
              "  37135.62890625,\n",
              "  36266.55859375,\n",
              "  39493.8671875,\n",
              "  37310.24609375,\n",
              "  36143.53125,\n",
              "  37923.51171875,\n",
              "  40775.81640625,\n",
              "  36716.44921875,\n",
              "  34825.6171875,\n",
              "  42035.93359375,\n",
              "  36310.8828125,\n",
              "  37893.94921875,\n",
              "  36487.078125,\n",
              "  37747.94921875,\n",
              "  37103.5390625,\n",
              "  39628.81640625,\n",
              "  37503.5546875,\n",
              "  38024.703125,\n",
              "  44408.56640625,\n",
              "  39551.7890625,\n",
              "  36883.9609375,\n",
              "  39764.98828125,\n",
              "  41791.3671875,\n",
              "  39037.23828125,\n",
              "  40488.59375,\n",
              "  37185.234375,\n",
              "  40276.609375,\n",
              "  40239.05078125,\n",
              "  35029.6015625],\n",
              " 'val_root_mean_squared_error': [84844.0546875,\n",
              "  53765.6484375,\n",
              "  50949.39453125,\n",
              "  54662.04296875,\n",
              "  50624.79296875,\n",
              "  48479.4921875,\n",
              "  52160.62109375,\n",
              "  60634.42578125,\n",
              "  53148.64453125,\n",
              "  51397.75,\n",
              "  46157.046875,\n",
              "  43308.015625,\n",
              "  44641.98828125,\n",
              "  54032.390625,\n",
              "  46166.87109375,\n",
              "  48992.03515625,\n",
              "  47360.15234375,\n",
              "  52297.09375,\n",
              "  45013.44921875,\n",
              "  50962.125,\n",
              "  53737.94921875,\n",
              "  45996.1171875,\n",
              "  50140.9765625,\n",
              "  44639.73046875,\n",
              "  46631.53515625,\n",
              "  65509.37890625,\n",
              "  43868.640625,\n",
              "  46722.42578125,\n",
              "  49355.65625,\n",
              "  47090.98046875,\n",
              "  50748.46484375,\n",
              "  46587.171875,\n",
              "  45651.51171875,\n",
              "  60281.390625,\n",
              "  46518.734375,\n",
              "  48559.828125,\n",
              "  45809.07421875,\n",
              "  47270.390625,\n",
              "  46661.57421875,\n",
              "  43959.63671875,\n",
              "  46709.91015625,\n",
              "  45811.390625,\n",
              "  47595.328125,\n",
              "  44785.5390625,\n",
              "  49991.234375,\n",
              "  48322.07421875,\n",
              "  47318.6484375,\n",
              "  52822.953125,\n",
              "  45784.94921875,\n",
              "  48180.17578125,\n",
              "  44414.40625,\n",
              "  44010.20703125,\n",
              "  43078.28125,\n",
              "  50851.41015625,\n",
              "  46761.9140625,\n",
              "  51183.25390625,\n",
              "  45137.3359375,\n",
              "  48176.015625,\n",
              "  49608.640625,\n",
              "  44517.43359375,\n",
              "  50639.8671875,\n",
              "  43627.5625,\n",
              "  44627.34375,\n",
              "  47774.7578125,\n",
              "  52873.90234375,\n",
              "  49171.09765625,\n",
              "  44001.65234375,\n",
              "  54045.43359375,\n",
              "  44650.71484375,\n",
              "  47717.703125,\n",
              "  47328.33984375,\n",
              "  45986.546875,\n",
              "  44652.41015625,\n",
              "  50088.9921875,\n",
              "  44280.3046875,\n",
              "  43670.078125,\n",
              "  47271.87890625,\n",
              "  50631.0546875,\n",
              "  45087.4765625,\n",
              "  43392.8203125,\n",
              "  51221.00390625,\n",
              "  44655.43359375,\n",
              "  46414.5546875,\n",
              "  44455.93359375,\n",
              "  45487.90625,\n",
              "  44760.90625,\n",
              "  49094.81640625,\n",
              "  45585.25,\n",
              "  46019.77734375,\n",
              "  52800.62890625,\n",
              "  47738.6171875,\n",
              "  45341.69921875,\n",
              "  49147.3984375,\n",
              "  50908.328125,\n",
              "  46990.1328125,\n",
              "  49585.13671875,\n",
              "  46957.65234375,\n",
              "  48877.328125,\n",
              "  49694.703125,\n",
              "  43609.55078125]}"
            ]
          },
          "metadata": {},
          "execution_count": 135
        }
      ]
    },
    {
      "cell_type": "code",
      "source": [
        "plt.plot(history.history['loss'])\n",
        "plt.plot(history.history['val_loss'])\n",
        "plt.title('model loss')\n",
        "plt.ylabel('loss')\n",
        "plt.xlabel('epoch')\n",
        "plt.legend(['train'])\n",
        "plt.show()"
      ],
      "metadata": {
        "colab": {
          "base_uri": "https://localhost:8080/",
          "height": 472
        },
        "id": "NzW4EyA0414S",
        "outputId": "26d20f82-e1f3-4a0e-a984-165578c2f4a9"
      },
      "execution_count": 136,
      "outputs": [
        {
          "output_type": "display_data",
          "data": {
            "text/plain": [
              "<Figure size 640x480 with 1 Axes>"
            ],
            "image/png": "[encoded data removed]"
          },
          "metadata": {}
        }
      ]
    },
    {
      "cell_type": "code",
      "source": [
        "plt.plot(history.history['root_mean_squared_error'])\n",
        "plt.plot(history.history['val_root_mean_squared_error'])\n",
        "plt.title('model loss')\n",
        "plt.ylabel('loss')\n",
        "plt.xlabel('epoch')\n",
        "plt.legend(['train','val'])\n",
        "plt.show()"
      ],
      "metadata": {
        "colab": {
          "base_uri": "https://localhost:8080/",
          "height": 472
        },
        "id": "3N7Xrgt2C2aG",
        "outputId": "1121dbef-4711-4827-db9a-42b03639d0c1"
      },
      "execution_count": 137,
      "outputs": [
        {
          "output_type": "display_data",
          "data": {
            "text/plain": [
              "<Figure size 640x480 with 1 Axes>"
            ],
            "image/png": "[encoded data removed]"
          },
          "metadata": {}
        }
      ]
    },
    {
      "cell_type": "code",
      "source": [
        "model.evaluate(testx,testy)\n",
        "y_true = list(testy[:,0].numpy())\n",
        "predy2=model.predict(testx)"
      ],
      "metadata": {
        "colab": {
          "base_uri": "https://localhost:8080/"
        },
        "id": "pR5jiybV6AbV",
        "outputId": "bfb75ebc-bad5-441a-c7ee-bdbdbb0010c8"
      },
      "execution_count": 145,
      "outputs": [
        {
          "output_type": "stream",
          "name": "stdout",
          "text": [
            "\u001b[1m4/4\u001b[0m \u001b[32m━━━━━━━━━━━━━━━━━━━━\u001b[0m\u001b[37m\u001b[0m \u001b[1m0s\u001b[0m 3ms/step - loss: 36422.4062 - root_mean_squared_error: 45402.5703 \n",
            "\u001b[1m4/4\u001b[0m \u001b[32m━━━━━━━━━━━━━━━━━━━━\u001b[0m\u001b[37m\u001b[0m \u001b[1m0s\u001b[0m 3ms/step \n"
          ]
        }
      ]
    },
    {
      "cell_type": "code",
      "source": [
        "predy=list(model.predict(testx)[:,0])"
      ],
      "metadata": {
        "colab": {
          "base_uri": "https://localhost:8080/"
        },
        "id": "BQktWPSO-V0Z",
        "outputId": "ff763d59-2c04-4b9c-d7a1-b374d6b5adce"
      },
      "execution_count": 139,
      "outputs": [
        {
          "output_type": "stream",
          "name": "stderr",
          "text": [
            "WARNING:tensorflow:6 out of the last 20 calls to <function TensorFlowTrainer.make_predict_function.<locals>.one_step_on_data_distributed at 0x79b4b876f880> triggered tf.function retracing. Tracing is expensive and the excessive number of tracings could be due to (1) creating @tf.function repeatedly in a loop, (2) passing tensors with different shapes, (3) passing Python objects instead of tensors. For (1), please define your @tf.function outside of the loop. For (2), @tf.function has reduce_retracing=True option that can avoid unnecessary retracing. For (3), please refer to https://www.tensorflow.org/guide/function#controlling_retracing and https://www.tensorflow.org/api_docs/python/tf/function for  more details.\n"
          ]
        },
        {
          "output_type": "stream",
          "name": "stdout",
          "text": [
            "\u001b[1m4/4\u001b[0m \u001b[32m━━━━━━━━━━━━━━━━━━━━\u001b[0m\u001b[37m\u001b[0m \u001b[1m0s\u001b[0m 16ms/step\n"
          ]
        }
      ]
    },
    {
      "cell_type": "code",
      "source": [
        "print(predy)"
      ],
      "metadata": {
        "colab": {
          "base_uri": "https://localhost:8080/"
        },
        "id": "A3dmUEb5ESbi",
        "outputId": "35e4912b-2258-49e8-a092-67385219fd8b"
      },
      "execution_count": 140,
      "outputs": [
        {
          "output_type": "stream",
          "name": "stdout",
          "text": [
            "[153018.61, 431266.38, 235155.47, 129348.77, 202164.45, 317739.3, 210652.9, 309016.97, 411427.34, 388512.25, 449559.44, 238572.34, 276638.97, 157665.31, 415322.78, 298993.2, 260726.42, 408861.38, 323711.47, 295963.44, 233003.5, 403909.84, 118571.664, 144110.34, 474868.3, 337231.25, 336595.44, 242295.88, 367875.12, 259668.45, 238198.28, 118008.94, 284684.5, 124182.74, 105603.03, 404758.56, 230282.06, 373654.25, 486931.75, 339172.25, 455692.7, 102686.22, 127109.07, 343357.7, 456329.06, 292975.0, 456865.34, 441270.7, 302099.38, 296655.78, 340533.78, 279228.78, 473501.34, 438278.0, 268695.3, 353724.7, 129994.65, 232647.9, 283991.28, 241124.98, 312454.25, 480132.9, 343705.88, 442781.8, 141446.84, 218435.31, 315294.0, 263543.88, 425522.7, 347567.7, 217398.34, 263368.6, 186859.12, 407580.7, 193073.0, 324437.12, 103106.53, 429564.88, 395368.9, 225749.0, 116981.586, 314790.25, 493759.2, 321105.6, 201641.19, 312264.9, 194890.97, 346272.56, 435239.44, 397748.0, 435382.88, 131052.35, 118760.54, 319481.16, 111331.61, 200419.94, 368093.53, 347187.62, 147937.84, 416448.44]\n"
          ]
        }
      ]
    },
    {
      "cell_type": "code",
      "source": [
        "ind = np.arange(100)\n",
        "plt.figure(figsize=(40,20))\n",
        "\n",
        "width = 0.1\n",
        "\n",
        "plt.bar(ind, predy, width, label='Predicted Car Price')\n",
        "plt.bar(ind + width, y_true, width, label='Actual Car Price')\n",
        "\n",
        "plt.xlabel('Actual vs Predicted Prices')\n",
        "plt.ylabel('Car Price Prices')\n",
        "\n",
        "plt.show()"
      ],
      "metadata": {
        "colab": {
          "base_uri": "https://localhost:8080/",
          "height": 635
        },
        "id": "8hPmAeFZFlg6",
        "outputId": "8204268d-52c0-4c65-f4d8-9cfdf6bdc9bf"
      },
      "execution_count": 141,
      "outputs": [
        {
          "output_type": "display_data",
          "data": {
            "text/plain": [
              "<Figure size 4000x2000 with 1 Axes>"
            ],
            "image/png": "[encoded data removed]"
          },
          "metadata": {}
        }
      ]
    },
    {
      "cell_type": "code",
      "source": [],
      "metadata": {
        "id": "hG9f_RCxF2VK"
      },
      "execution_count": 147,
      "outputs": []
    },
    {
      "cell_type": "code",
      "source": [],
      "metadata": {
        "id": "EYW-KahCNTB4"
      },
      "execution_count": null,
      "outputs": []
    }
  ]
}